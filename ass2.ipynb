{
  "nbformat": 4,
  "nbformat_minor": 0,
  "metadata": {
    "colab": {
      "provenance": [],
      "name": "ass2.ipynb"
    },
    "kernelspec": {
      "name": "python3",
      "display_name": "Python 3"
    },
    "language_info": {
      "name": "python"
    }
  },
  "cells": [
    {
      "cell_type": "code",
      "execution_count": null,
      "metadata": {
        "colab": {
          "base_uri": "https://localhost:8080/"
        },
        "id": "k69ha55DqBnI",
        "outputId": "f70ff072-cf04-44f6-fd26-075a085eeadd"
      },
      "outputs": [
        {
          "output_type": "stream",
          "name": "stdout",
          "text": [
            "Movies DataFrame:\n",
            "   movie_id     title\n",
            "0         1  Avengers\n",
            "1         2  Frozen 2\n",
            "2         3     Joker\n",
            "\n",
            "Users DataFrame:\n",
            "   user_id    name\n",
            "0        1  Daniel\n",
            "1        2  Monica\n",
            "2        3   Maria\n",
            "3        4   James\n",
            "\n",
            "MovieRating DataFrame:\n",
            "   movie_id  user_id  rating  created_at\n",
            "0         1        1       3  2020-01-12\n",
            "1         1        2       4  2020-02-11\n",
            "2         1        3       2  2020-02-12\n",
            "3         1        4       1  2020-01-01\n",
            "4         2        1       5  2020-02-17\n",
            "5         2        2       2  2020-02-01\n",
            "6         2        3       2  2020-03-01\n",
            "7         3        1       3  2020-02-22\n",
            "8         3        2       4  2020-02-25\n"
          ]
        }
      ],
      "source": [
        "import pandas as pd\n",
        "\n",
        "\n",
        "movies_data = {\n",
        "    'movie_id': [1, 2, 3],\n",
        "    'title': ['Avengers', 'Frozen 2', 'Joker']\n",
        "}\n",
        "movies_df = pd.DataFrame(movies_data)\n",
        "\n",
        "\n",
        "users_data = {\n",
        "    'user_id': [1, 2, 3, 4],\n",
        "    'name': ['Daniel', 'Monica', 'Maria', 'James']\n",
        "}\n",
        "users_df = pd.DataFrame(users_data)\n",
        "\n",
        "movie_rating_data = {\n",
        "    'movie_id': [1, 1, 1, 1, 2, 2, 2, 3, 3],\n",
        "    'user_id': [1, 2, 3, 4, 1, 2, 3, 1, 2],\n",
        "    'rating': [3, 4, 2, 1, 5, 2, 2, 3, 4],\n",
        "    'created_at': ['2020-01-12', '2020-02-11', '2020-02-12', '2020-01-01',\n",
        "                   '2020-02-17', '2020-02-01', '2020-03-01', '2020-02-22', '2020-02-25']\n",
        "}\n",
        "movie_rating_df = pd.DataFrame(movie_rating_data)\n",
        "\n",
        "\n",
        "print(\"Movies DataFrame:\")\n",
        "print(movies_df)\n",
        "\n",
        "print(\"\\nUsers DataFrame:\")\n",
        "print(users_df)\n",
        "\n",
        "print(\"\\nMovieRating DataFrame:\")\n",
        "print(movie_rating_df)\n"
      ]
    },
    {
      "cell_type": "code",
      "source": [
        "import pandas as pd\n",
        "\n",
        "\n",
        "def movie_rating(\n",
        "    movies: pd.DataFrame, users: pd.DataFrame, movie_rating: pd.DataFrame\n",
        ") -> pd.DataFrame:\n",
        "    user_name = (\n",
        "        users.merge(movie_rating, on=\"user_id\")\n",
        "        .groupby(\"name\")\n",
        "        .movie_id.count()\n",
        "        .sort_values(ascending=False)\n",
        "        .head(1)\n",
        "        .reset_index()[\"name\"][0]\n",
        "    )\n",
        "    movie_name = (\n",
        "        movie_rating[movie_rating.created_at.between(\"2020-02-01\", \"2020-02-29\")]\n",
        "        .merge(movies, on=\"movie_id\")\n",
        "        .groupby(\"title\")\n",
        "        .rating.mean()\n",
        "        .sort_values(ascending=False)\n",
        "        .head(1)\n",
        "        .reset_index()[\"title\"][0]\n",
        "    )\n",
        "    return pd.DataFrame({\"results\": [user_name, movie_name]})"
      ],
      "metadata": {
        "id": "43f_ZUGtqQkv"
      },
      "execution_count": null,
      "outputs": []
    }
  ]
}